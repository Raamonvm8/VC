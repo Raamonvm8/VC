{
 "cells": [
  {
   "cell_type": "code",
   "execution_count": 3,
   "metadata": {},
   "outputs": [],
   "source": [
    "import cv2  \n",
    "import numpy as np\n",
    "import matplotlib.pyplot as plt"
   ]
  },
  {
   "cell_type": "code",
   "execution_count": 4,
   "metadata": {},
   "outputs": [],
   "source": [
    "#Dimensiones de la imagen a crear\n",
    "ancho = 350\n",
    "alto = 350"
   ]
  },
  {
   "cell_type": "code",
   "execution_count": 5,
   "metadata": {},
   "outputs": [
    {
     "name": "stdout",
     "output_type": "stream",
     "text": [
      "(350, 350, 1)\n"
     ]
    }
   ],
   "source": [
    "#Crea una imagen de un único plano\n",
    "# Al ser un único plano, se interpreta como nivel de gris (0 negro, 255 blanco)\n",
    "gris_img = np.zeros((alto,ancho,1), dtype = np.uint8)\n",
    "#Muestra dimensiones de la imagen creada\n",
    "print(gris_img.shape)"
   ]
  },
  {
   "cell_type": "markdown",
   "metadata": {},
   "source": [
    "Tarea 1: Crear una imagen con la textura de tablero de ajedrez:"
   ]
  },
  {
   "cell_type": "code",
   "execution_count": 10,
   "metadata": {},
   "outputs": [
    {
     "data": {
      "image/png": "[encoded data removed]",
      "text/plain": [
       "<Figure size 640x480 with 1 Axes>"
      ]
     },
     "metadata": {},
     "output_type": "display_data"
    }
   ],
   "source": [
    "#Dimensiones del tablero de ajedrez\n",
    "ancho = 400\n",
    "alto = 400\n",
    "\n",
    "gris_img = np.zeros((alto,ancho,1), dtype = np.uint8)\n",
    "#Modifica un par de zonas rectangulares de la imagen\n",
    "\n",
    "celda =50\n",
    "for fila in range(0, alto, celda):\n",
    "    for columna in range(0, ancho, celda):\n",
    "        if (fila // celda + columna // celda) % 2 == 0:\n",
    "            gris_img[fila:fila+celda, columna:columna+celda] = 255\n",
    "        else:\n",
    "            gris_img[fila:fila+celda, columna:columna+celda] = 0\n",
    "#Muestra la imagen con matplotlib\n",
    "#Al ser un plano, recordar especificar que el mapa de color usado es de grises\n",
    "plt.imshow(gris_img, cmap='gray') #Te animo a probar a eliminar la especificación del mapa de color\n",
    "plt.axis('off')\n",
    "plt.show()"
   ]
  },
  {
   "cell_type": "markdown",
   "metadata": {},
   "source": [
    "TAREA 2: Crear una imagen estilo Mondrian"
   ]
  },
  {
   "cell_type": "code",
   "execution_count": 11,
   "metadata": {},
   "outputs": [
    {
     "data": {
      "image/png": "[encoded data removed]",
      "text/plain": [
       "<Figure size 640x480 with 1 Axes>"
      ]
     },
     "metadata": {},
     "output_type": "display_data"
    }
   ],
   "source": [
    "color_img = np.zeros((350, 350, 3), dtype=np.uint8)\n",
    "\n",
    "# Rectángulos laterales blancos\n",
    "color_img[5:95, 250:345] = 255\n",
    "color_img[100:195, 250:345] = 255\n",
    "\n",
    "# Rectángulo blanco en la parte inferior central\n",
    "color_img[200:270, 100:245] = color_img[275:345, 100:245, 1] = 255\n",
    "\n",
    "# Cuadrado amarillo en la esquina inferior derecha\n",
    "color_img[200:245, 250:345, 1] = color_img[250:295, 250:345, 0] = color_img[300:345, 250:345, 2] = 255\n",
    "\n",
    "# Cuadrado rojo en la parte superior central\n",
    "color_img[5:195, 5:245, 0] = 255\n",
    "\n",
    "# Cuadrado azul en la parte inferior izquierda\n",
    "color_img[200:345, 5:95, 2] = 255\n",
    "\n",
    "# Muestra la imagen\n",
    "plt.imshow(color_img)\n",
    "#plt.axis('off')\n",
    "plt.show()"
   ]
  },
  {
   "cell_type": "markdown",
   "metadata": {},
   "source": [
    "TAREA 3: Hacer uso de las funciones de dibujo de OpenCV"
   ]
  },
  {
   "cell_type": "code",
   "execution_count": 12,
   "metadata": {},
   "outputs": [
    {
     "data": {
      "image/png": "[encoded data removed]",
      "text/plain": [
       "<Figure size 640x480 with 1 Axes>"
      ]
     },
     "metadata": {},
     "output_type": "display_data"
    }
   ],
   "source": [
    "#Dimensiones del tablero de ajedrez\n",
    "ancho = 400\n",
    "alto = 400\n",
    "\n",
    "#Crea una imagen con tres planos\n",
    "tablero = np.zeros((alto,ancho,3), dtype = np.uint8)\n",
    "\n",
    "# Tamaño de cada celda\n",
    "celda = 50\n",
    "\n",
    "# Dibujar las celdas con OpenCV\n",
    "for fila in range(0, alto, celda):\n",
    "    for columna in range(0, ancho, celda):\n",
    "        # Alternar entre blanco y negro\n",
    "        if (fila // celda + columna // celda) % 2 == 0:\n",
    "            color = (255, 255, 255)  # Blanco     \n",
    "        else:\n",
    "            color = (0, 0, 0)        # Negro\n",
    "        \n",
    "        # Definir esquinas de la celda\n",
    "        top_left = (columna, fila)\n",
    "        bottom_right = (columna + celda, fila + celda)\n",
    "        \n",
    "        # Dibujar el rectángulo (celda)\n",
    "        cv2.rectangle(tablero, top_left, bottom_right, color, -1)\n",
    "\n",
    "# Mostrar la imagen con matplotlib\n",
    "plt.imshow(cv2.cvtColor(tablero, cv2.COLOR_BGR2RGB))\n",
    "plt.axis('off')\n",
    "plt.show()\n"
   ]
  },
  {
   "cell_type": "markdown",
   "metadata": {},
   "source": [
    "TAREA 4: Modificar un plano de la imagen"
   ]
  },
  {
   "cell_type": "code",
   "execution_count": null,
   "metadata": {},
   "outputs": [],
   "source": []
  },
  {
   "cell_type": "markdown",
   "metadata": {},
   "source": [
    "TAREA 5: Destacar tanto el píxel con el color más claro como con el color más oscuro de una imagen"
   ]
  },
  {
   "cell_type": "code",
   "execution_count": null,
   "metadata": {},
   "outputs": [],
   "source": []
  },
  {
   "cell_type": "markdown",
   "metadata": {},
   "source": [
    "TAREA 6: Hacer una propuesta pop art con la entrada de la cámara web o vídeo"
   ]
  },
  {
   "cell_type": "code",
   "execution_count": null,
   "metadata": {},
   "outputs": [],
   "source": []
  }
 ],
 "metadata": {
  "kernelspec": {
   "display_name": "VC_P1",
   "language": "python",
   "name": "python3"
  },
  "language_info": {
   "codemirror_mode": {
    "name": "ipython",
    "version": 3
   },
   "file_extension": ".py",
   "mimetype": "text/x-python",
   "name": "python",
   "nbconvert_exporter": "python",
   "pygments_lexer": "ipython3",
   "version": "3.11.5"
  }
 },
 "nbformat": 4,
 "nbformat_minor": 2
}
